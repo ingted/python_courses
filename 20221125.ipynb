{
 "cells": [
  {
   "cell_type": "markdown",
   "metadata": {},
   "source": [
    "<img src=\"20221125/20221125.jpg\">"
   ]
  },
  {
   "cell_type": "markdown",
   "metadata": {},
   "source": [
    "https://zh.wikipedia.org/zh-tw/%E5%AD%97%E7%AC%A6%E7%BC%96%E7%A0%81\n",
    "\n",
    "Character encoding is the process of assigning numbers to graphical characters, especially the written characters of human language, allowing them to be stored, transmitted, and transformed using digital computers.[1] The numerical values that make up a character encoding are known as \"code points\" and collectively comprise a \"code space\", a \"code page\", or a \"character map\".\n",
    "\n",
    "https://ithelp.ithome.com.tw/articles/10187778\n",
    "\n",
    "https://shengyu7697.github.io/python-base64/\n",
    "\n",
    "In Python 3\n",
    "All strings are unicode. The unicode function does not exist anymore"
   ]
  },
  {
   "cell_type": "code",
   "execution_count": 32,
   "metadata": {},
   "outputs": [
    {
     "data": {
      "text/plain": [
       "b'abc'"
      ]
     },
     "metadata": {},
     "output_type": "display_data"
    },
    {
     "data": {
      "text/plain": [
       "b'abc\\xe6\\x88\\x91\\xe6\\x98\\xaf\\xe8\\xaa\\xb0'"
      ]
     },
     "metadata": {},
     "output_type": "display_data"
    }
   ],
   "source": [
    "display(\"abc\".encode(\"ascii\"))\n",
    "#display(\"abc我是誰\".encode(\"ascii\")) #UnicodeEncodeError: 'ascii' codec can't encode characters in position 3-5: ordinal not in range(128)\n",
    "display(\"abc我是誰\".encode(\"utf_8\"))"
   ]
  },
  {
   "cell_type": "code",
   "execution_count": 47,
   "metadata": {},
   "outputs": [
    {
     "name": "stdout",
     "output_type": "stream",
     "text": [
      "utf-8\n",
      "你好\n",
      "b'\\xe4\\xbd\\xa0\\xe5\\xa5\\xbd'\n",
      "你好\n"
     ]
    }
   ],
   "source": [
    "import sys\n",
    "print(sys.getdefaultencoding())     # 打印出目前系統字符編碼\n",
    "\n",
    "s = '你好'\n",
    "byte_array = s.encode()\n",
    "byte_array2 = s.encode(\"big5\")\n",
    "#s_to_unicode = byte_array.decode(encoding='big5')  # UnicodeDecodeError: 'big5' codec can't decode byte 0xa0 in position 2: illegal multibyte sequence\n",
    "s_to_unicode2 = byte_array2.decode(encoding='big5')\n",
    "print(s)\n",
    "print(byte_array)\n",
    "print(s_to_unicode2)"
   ]
  },
  {
   "cell_type": "code",
   "execution_count": 48,
   "metadata": {},
   "outputs": [
    {
     "data": {
      "text/plain": [
       "bytearray(b'\\xe4\\xbd\\xa0\\xe5\\xa5\\xbd')"
      ]
     },
     "execution_count": 48,
     "metadata": {},
     "output_type": "execute_result"
    }
   ],
   "source": [
    "bytearray(\"你好\", 'utf-8')"
   ]
  },
  {
   "cell_type": "code",
   "execution_count": 3,
   "metadata": {},
   "outputs": [
    {
     "name": "stdout",
     "output_type": "stream",
     "text": [
      "True\n",
      "True\n",
      "False\n"
     ]
    }
   ],
   "source": [
    "# https://www.youtube.com/watch?v=kxx_T8_V2us\n",
    "\n",
    "fruit = 'banana'\n",
    "print('b' in fruit)\n",
    "print('ban' in fruit)\n",
    "print('nba' in fruit)\n",
    "#print(None in fruit) #TypeError: 'in <string>' requires string as left operand, not NoneType\n",
    "#print(0 in fruit) #TypeError: 'in <string>' requires string as left operand, not int\n"
   ]
  },
  {
   "cell_type": "code",
   "execution_count": 4,
   "metadata": {},
   "outputs": [
    {
     "name": "stdout",
     "output_type": "stream",
     "text": [
      "2\n"
     ]
    }
   ],
   "source": [
    "print(fruit.find('na'))"
   ]
  },
  {
   "cell_type": "code",
   "execution_count": 5,
   "metadata": {},
   "outputs": [
    {
     "name": "stdout",
     "output_type": "stream",
     "text": [
      "Hello Jane\n"
     ]
    }
   ],
   "source": [
    "greet = 'Hello Bob'\n",
    "print(greet.replace('Bob', 'Jane'))"
   ]
  },
  {
   "cell_type": "code",
   "execution_count": 8,
   "metadata": {},
   "outputs": [
    {
     "name": "stdout",
     "output_type": "stream",
     "text": [
      "|Hello Bob |\n",
      "| Hello Bob|\n",
      "|Hello Bob|\n"
     ]
    }
   ],
   "source": [
    "greet = ' Hello Bob '\n",
    "print(f\"|{greet.lstrip()}|\")\n",
    "print(f\"|{greet.rstrip()}|\")\n",
    "print(f\"|{greet.strip()}|\")"
   ]
  },
  {
   "cell_type": "code",
   "execution_count": 10,
   "metadata": {},
   "outputs": [
    {
     "name": "stdout",
     "output_type": "stream",
     "text": [
      "True\n",
      "False\n"
     ]
    }
   ],
   "source": [
    "line = 'Please have a nice day'\n",
    "print(line.startswith('Please'))\n",
    "print(line.startswith('P'))\n",
    "print(line.startswith('p'))"
   ]
  },
  {
   "cell_type": "code",
   "execution_count": null,
   "metadata": {},
   "outputs": [],
   "source": [
    "# https://docs.python.org/3/howto/regex.html"
   ]
  },
  {
   "cell_type": "code",
   "execution_count": 14,
   "metadata": {},
   "outputs": [
    {
     "name": "stdout",
     "output_type": "stream",
     "text": [
      "matchObj.group()  :  orz | Cats are smarter than dogs | omg\n",
      "matchObj.group(1) :  orz | Cats\n",
      "matchObj.group(2) :  smarter\n"
     ]
    }
   ],
   "source": [
    "import re\n",
    "line = \"orz | Cats are smarter than dogs | omg\"\n",
    "matchObj = re.match( r'(.*) are (.*?) .*', line, re.M|re.I)\n",
    "if matchObj:\n",
    "    print(\"matchObj.group()  : \", matchObj.group())\n",
    "    print(\"matchObj.group(1) : \", matchObj.group(1))\n",
    "    print(\"matchObj.group(2) : \", matchObj.group(2))\n",
    "else:\n",
    "    print(\"No match!!\")\n"
   ]
  },
  {
   "cell_type": "code",
   "execution_count": 15,
   "metadata": {},
   "outputs": [
    {
     "name": "stdout",
     "output_type": "stream",
     "text": [
      "Phone Num :  2004-959-559 \n",
      "Phone Num :  2004959559\n"
     ]
    }
   ],
   "source": [
    "phone = \"2004-959-559 # This is Phone Number\"\n",
    "# Delete Python-style comments\n",
    "num = re.sub(r'#.*$', \"\", phone)\n",
    "print(\"Phone Num : \", num)\n",
    "# Remove anything other than digits\n",
    "num = re.sub(r'\\D', \"\", phone)\n",
    "print(\"Phone Num : \", num)"
   ]
  },
  {
   "cell_type": "markdown",
   "metadata": {},
   "source": [
    "# Practice 1\n",
    "https://www.w3resource.com/python-exercises/string/"
   ]
  },
  {
   "cell_type": "markdown",
   "metadata": {},
   "source": [
    "# 物件導向編程"
   ]
  },
  {
   "cell_type": "markdown",
   "metadata": {},
   "source": [
    "http://yltang.net/tutorial/python/15/\n",
    "\n",
    "<img src=\"20221125/20221125_2.jpg\">"
   ]
  },
  {
   "cell_type": "markdown",
   "metadata": {},
   "source": []
  },
  {
   "cell_type": "code",
   "execution_count": 20,
   "metadata": {},
   "outputs": [],
   "source": [
    "class Circle:\n",
    "\n",
    "    def __init__(self, cx, cy, radius):\n",
    "        self.cx = cx\n",
    "        self.cy = cy\n",
    "        self.radius = radius\n",
    "    \n",
    "    def __init__(self, radius):\n",
    "        self.cx = 0\n",
    "        self.cy = 0\n",
    "        self.radius = radius\n",
    "\n",
    "    def setColor(self, color):\n",
    "        self.color = color"
   ]
  },
  {
   "cell_type": "code",
   "execution_count": 22,
   "metadata": {},
   "outputs": [],
   "source": [
    "#circle1 = Circle(10, 20, 30) #TypeError: __init__() takes 2 positional arguments but 4 were given\n",
    "circle2 = Circle(10)"
   ]
  },
  {
   "cell_type": "markdown",
   "metadata": {},
   "source": [
    "https://www.learncodewithmike.com/2020/01/python-inheritance.html\n",
    "\n",
    "</br>如何使用Python繼承(Inheritance)\n",
    "</br>方法覆寫(Method Overriding)\n",
    "</br>多層繼承(Multi-Level Inheritance)\n",
    "</br>多重繼承(Multiple Inheritance)\n",
    "\n",
    "<img src=\"20221125/20221125_6.jpg\">"
   ]
  },
  {
   "cell_type": "markdown",
   "metadata": {},
   "source": [
    "# Practice 2\n",
    "想一想，怎樣才能讓我們同時可以有兩個不同建立圓形的方式？ \n",
    "</br> => google 並利用前三次課程內容進行 POC 開發"
   ]
  },
  {
   "cell_type": "markdown",
   "metadata": {},
   "source": [
    "https://www.learncodewithmike.com/2020/01/python-method.html#:~:text=%E9%9D%9C%E6%85%8B%E6%96%B9%E6%B3%95(Static%20Method)%E5%9C%A8,%23%20%E9%80%9F%E7%8E%87%E9%9D%9C%E6%85%8B%E6%96%B9%E6%B3%95\n",
    "\n",
    "</br>實體方法(Instance Method)\n",
    "</br>類別方法(Class Method)\n",
    "</br>靜態方法(Static Method)\n",
    "\n",
    "<img src=\"20221125/20221125_3.jpg\">"
   ]
  },
  {
   "cell_type": "markdown",
   "metadata": {},
   "source": [
    "https://ithelp.ithome.com.tw/articles/10225246\n",
    "\n",
    "<img src=\"20221125/20221125_4.jpg\">"
   ]
  },
  {
   "cell_type": "markdown",
   "metadata": {},
   "source": [
    "https://www.learncodewithmike.com/2020/01/python-polymorphism.html\n",
    "\n",
    "</br>Python抽象方法(Abstract Method)\n",
    "</br>多型(Polymorphism)\n",
    "\n",
    "<img src=\"20221125/20221125_5.jpg\">"
   ]
  },
  {
   "cell_type": "markdown",
   "metadata": {},
   "source": []
  }
 ],
 "metadata": {
  "kernelspec": {
   "display_name": "Python 3.8.7 64-bit",
   "language": "python",
   "name": "python3"
  },
  "language_info": {
   "codemirror_mode": {
    "name": "ipython",
    "version": 3
   },
   "file_extension": ".py",
   "mimetype": "text/x-python",
   "name": "python",
   "nbconvert_exporter": "python",
   "pygments_lexer": "ipython3",
   "version": "3.8.7"
  },
  "orig_nbformat": 4,
  "vscode": {
   "interpreter": {
    "hash": "f16f79ace4c014e94e8714fd17d49a17164430f0d055b960550ad04eb9435d5e"
   }
  }
 },
 "nbformat": 4,
 "nbformat_minor": 2
}

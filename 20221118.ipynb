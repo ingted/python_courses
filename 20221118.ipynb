{
 "cells": [
  {
   "cell_type": "code",
   "execution_count": null,
   "metadata": {},
   "outputs": [],
   "source": [
    "# 內建函數\n",
    "# https://www.programiz.com/python-programming/methods/built-in"
   ]
  },
  {
   "cell_type": "code",
   "execution_count": null,
   "metadata": {},
   "outputs": [],
   "source": [
    "number = [12]\n",
    "# returns valid attributes of the number list \n",
    "print(dir(number))"
   ]
  },
  {
   "cell_type": "code",
   "execution_count": 10,
   "metadata": {},
   "outputs": [
    {
     "name": "stdout",
     "output_type": "stream",
     "text": [
      "begin,1,2,3,4,end\n"
     ]
    }
   ],
   "source": [
    "import sys\n",
    "print(\"begin\",1,2,3,4,\"end\", sep=',', end='\\n', file=sys.stdout)"
   ]
  },
  {
   "cell_type": "code",
   "execution_count": 18,
   "metadata": {},
   "outputs": [],
   "source": [
    "f = None"
   ]
  },
  {
   "cell_type": "code",
   "execution_count": 21,
   "metadata": {},
   "outputs": [
    {
     "name": "stdout",
     "output_type": "stream",
     "text": [
      "True\n"
     ]
    }
   ],
   "source": [
    "with open('new_file.txt', 'w') as f:\n",
    "    print(\"begin\",1,2,3,4,\"end\", sep=',', end='\\n', file=f)\n",
    "    print(\"begin\",1,2,3,4,\"end again\", sep=',', end='\\n', file=f)\n",
    "\n",
    "print(f.closed)"
   ]
  },
  {
   "cell_type": "code",
   "execution_count": 23,
   "metadata": {},
   "outputs": [
    {
     "name": "stdout",
     "output_type": "stream",
     "text": [
      "['begin,1,2,3,4,end\\n', 'begin,1,2,3,4,end again\\n']\n",
      "[]\n",
      "False\n"
     ]
    }
   ],
   "source": [
    "g = open(\"new_file.txt\", \"r\")\n",
    "print(g.readlines())\n",
    "print(g.closed)"
   ]
  },
  {
   "cell_type": "code",
   "execution_count": 25,
   "metadata": {},
   "outputs": [
    {
     "name": "stdout",
     "output_type": "stream",
     "text": [
      "['begin,1,2,3,4,end\\n']\n"
     ]
    }
   ],
   "source": [
    "g = open(\"new_file.txt\", \"r\")\n",
    "print(g.readlines(1))"
   ]
  },
  {
   "cell_type": "code",
   "execution_count": 3,
   "metadata": {},
   "outputs": [],
   "source": [
    "import os\n",
    "os.rename(\"new_file.txt\", \"old_file.txt\")"
   ]
  },
  {
   "cell_type": "code",
   "execution_count": 4,
   "metadata": {},
   "outputs": [],
   "source": [
    "os.remove(\"old_file.txt\")"
   ]
  },
  {
   "cell_type": "code",
   "execution_count": 5,
   "metadata": {},
   "outputs": [
    {
     "data": {
      "text/plain": [
       "['20221118.ipynb',\n",
       " '20221118_1.py',\n",
       " 'i_am_ironman.py',\n",
       " 'i_am_pepper.py',\n",
       " '__pycache__']"
      ]
     },
     "execution_count": 5,
     "metadata": {},
     "output_type": "execute_result"
    }
   ],
   "source": [
    "os.listdir()"
   ]
  },
  {
   "cell_type": "code",
   "execution_count": 6,
   "metadata": {},
   "outputs": [
    {
     "data": {
      "text/plain": [
       "['$Recycle.Bin',\n",
       " 'bootTel.dat',\n",
       " 'Documents and Settings',\n",
       " 'IronPython 3.4',\n",
       " 'IronPython.3.4.0-alpha1',\n",
       " 'pagefile.sys',\n",
       " 'PerfLogs',\n",
       " 'PFCVIP',\n",
       " 'Program Files',\n",
       " 'Program Files (x86)',\n",
       " 'ProgramData',\n",
       " 'pypy3.8-v7.3.7-win64',\n",
       " 'Python3.8',\n",
       " 'Python34',\n",
       " 'Recovery',\n",
       " 'RichCopy 4.0',\n",
       " 'System Volume Information',\n",
       " 'Users',\n",
       " 'Windows']"
      ]
     },
     "execution_count": 6,
     "metadata": {},
     "output_type": "execute_result"
    }
   ],
   "source": [
    "os.listdir(\"c:\\\\\")"
   ]
  },
  {
   "cell_type": "code",
   "execution_count": 10,
   "metadata": {},
   "outputs": [
    {
     "name": "stdout",
     "output_type": "stream",
     "text": [
      "1668745843.8252165\n",
      "time.struct_time(tm_year=2022, tm_mon=11, tm_mday=18, tm_hour=12, tm_min=30, tm_sec=43, tm_wday=4, tm_yday=322, tm_isdst=0)\n"
     ]
    }
   ],
   "source": [
    "import time\n",
    "print(time.time())\n",
    "print(time.localtime())"
   ]
  },
  {
   "cell_type": "code",
   "execution_count": 9,
   "metadata": {},
   "outputs": [
    {
     "data": {
      "text/plain": [
       "datetime.datetime(2022, 11, 18, 12, 30, 20, 167593)"
      ]
     },
     "execution_count": 9,
     "metadata": {},
     "output_type": "execute_result"
    }
   ],
   "source": [
    "import datetime\n",
    "datetime.datetime.now()"
   ]
  },
  {
   "cell_type": "code",
   "execution_count": 1,
   "metadata": {},
   "outputs": [],
   "source": [
    "# What is the difference between sort() and sorted()?\n",
    "# https://discuss.codecademy.com/t/what-is-the-difference-between-sort-and-sorted/349679"
   ]
  },
  {
   "cell_type": "code",
   "execution_count": 2,
   "metadata": {},
   "outputs": [
    {
     "name": "stdout",
     "output_type": "stream",
     "text": [
      "['carrot', 'pea', 'potato', 'squash']\n"
     ]
    }
   ],
   "source": [
    "vegetables = ['squash', 'pea', 'carrot', 'potato']\n",
    "\n",
    "new_list = sorted(vegetables)\n",
    "# new_list = ['carrot', 'pea', 'potato', 'squash']\n",
    "print(new_list)"
   ]
  },
  {
   "cell_type": "code",
   "execution_count": null,
   "metadata": {},
   "outputs": [],
   "source": [
    "vegetables = ['squash', 'pea', 'carrot', 'potato']\n",
    "print(vegetables)\n",
    "\n",
    "vegetables.sort()\n",
    "# vegetables = ['carrot', 'pea', 'potato', 'squash']\n",
    "print(vegetables)"
   ]
  },
  {
   "cell_type": "code",
   "execution_count": null,
   "metadata": {},
   "outputs": [],
   "source": [
    "# 關於駝峰式\n",
    "# https://zh.wikipedia.org/wiki/%E9%A7%9D%E5%B3%B0%E5%BC%8F%E5%A4%A7%E5%B0%8F%E5%AF%AB\n",
    "\n",
    "# 單字之間不以空格斷開（例：camel case）或連接號（-，例：camel-case）、底線（_，例：camel_case）連結，有兩種格式：\n",
    "\n",
    "# 小駝峰式命名法（lower camel case）：\n",
    "# 第一個單字以小寫字母開始；第二個單字的首字母大寫，例如：firstName、lastName。\n",
    "# 大駝峰式命名法（upper camel case）：\n",
    "# 每一個單字的首字母都採用大寫字母，例如：FirstName、LastName、CamelCase，也被稱為Pascal命名法（英語：Pascal Case）。"
   ]
  },
  {
   "cell_type": "code",
   "execution_count": 4,
   "metadata": {},
   "outputs": [],
   "source": [
    "import sys\n",
    "import traceback\n",
    "\n",
    "def exn_handle(e):\n",
    "    error_class = e.__class__.__name__  # 取得錯誤類型                          #get the error type\n",
    "    detail = e.args[0]  # 取得詳細內容                                          #get the detail error information\n",
    "    cl, exc, tb = sys.exc_info()  # 取得Call Stack                             #get the call stack\n",
    "    lastCallStack = traceback.extract_tb(tb)[-1]  # 取得Call Stack的最後一筆資料 #get the last invocation data\n",
    "    fileName = lastCallStack[0]  # 取得發生的檔案名稱                            #get the executed file\n",
    "    lineNum = lastCallStack[1]  # 取得發生的行號                                #get the code line number in the executed file\n",
    "    funcName = lastCallStack[2]  # 取得發生的函數名稱                            #get the invoked function name\n",
    "    errMsg = \"File \\\"{}\\\", line {}, in {}: [{}] {}\".format(fileName, lineNum, funcName, error_class, detail)\n",
    "    return errMsg"
   ]
  },
  {
   "cell_type": "code",
   "execution_count": 8,
   "metadata": {},
   "outputs": [
    {
     "name": "stdout",
     "output_type": "stream",
     "text": [
      "File \"C:\\Users\\anibal\\AppData\\Local\\Temp\\2\\ipykernel_26048\\1022550730.py\", line 5, in <module>: [TypeError] unsupported operand type(s) for /: 'int' and 'str'\n",
      "Don't forget me!!\n"
     ]
    }
   ],
   "source": [
    "# https://www.geeksforgeeks.org/try-except-else-and-finally-in-python/\n",
    "\n",
    "try:\n",
    "    # Some Code.... \n",
    "    print(1/0)\n",
    "except ZeroDivisionError as exn_zd:\n",
    "    print(f\"We don't like zero!! {exn_zd}\")\n",
    "except Exception as exn:\n",
    "    # optional block\n",
    "    # Handling of exception (if required)\n",
    "    print(exn_handle(exn)) #把 1/0 改 1/\"fff\" 重跑看看\n",
    "else:\n",
    "    # execute if no exception\n",
    "    print(\"I am fine!!!\") #把 1/0 改成 1/10 重跑看看\n",
    "finally:\n",
    "    # Some code .....(always executed)\n",
    "    print(\"Don't forget me!!\")"
   ]
  },
  {
   "cell_type": "code",
   "execution_count": 4,
   "metadata": {},
   "outputs": [
    {
     "ename": "Exception",
     "evalue": "reraise: omg",
     "output_type": "error",
     "traceback": [
      "\u001b[1;31m---------------------------------------------------------------------------\u001b[0m",
      "\u001b[1;31mException\u001b[0m                                 Traceback (most recent call last)",
      "\u001b[1;32mg:\\coldfar_py\\experiments\\020_python_courses\\20221118.ipynb Cell 20\u001b[0m in \u001b[0;36m<module>\u001b[1;34m\u001b[0m\n\u001b[0;32m      <a href='vscode-notebook-cell:/g%3A/coldfar_py/experiments/020_python_courses/20221118.ipynb#X44sZmlsZQ%3D%3D?line=4'>5</a>\u001b[0m \u001b[39mtry\u001b[39;00m:\n\u001b[1;32m----> <a href='vscode-notebook-cell:/g%3A/coldfar_py/experiments/020_python_courses/20221118.ipynb#X44sZmlsZQ%3D%3D?line=5'>6</a>\u001b[0m     failwith(\u001b[39m\"\u001b[39;49m\u001b[39momg\u001b[39;49m\u001b[39m\"\u001b[39;49m)\n\u001b[0;32m      <a href='vscode-notebook-cell:/g%3A/coldfar_py/experiments/020_python_courses/20221118.ipynb#X44sZmlsZQ%3D%3D?line=6'>7</a>\u001b[0m \u001b[39mexcept\u001b[39;00m \u001b[39mException\u001b[39;00m \u001b[39mas\u001b[39;00m exn:\n",
      "\u001b[1;32mg:\\coldfar_py\\experiments\\020_python_courses\\20221118.ipynb Cell 20\u001b[0m in \u001b[0;36mfailwith\u001b[1;34m(s)\u001b[0m\n\u001b[0;32m      <a href='vscode-notebook-cell:/g%3A/coldfar_py/experiments/020_python_courses/20221118.ipynb#X44sZmlsZQ%3D%3D?line=0'>1</a>\u001b[0m \u001b[39mdef\u001b[39;00m \u001b[39mfailwith\u001b[39m(s):\n\u001b[1;32m----> <a href='vscode-notebook-cell:/g%3A/coldfar_py/experiments/020_python_courses/20221118.ipynb#X44sZmlsZQ%3D%3D?line=1'>2</a>\u001b[0m     \u001b[39mraise\u001b[39;00m \u001b[39mException\u001b[39;00m(s)\n",
      "\u001b[1;31mException\u001b[0m: omg",
      "\nDuring handling of the above exception, another exception occurred:\n",
      "\u001b[1;31mException\u001b[0m                                 Traceback (most recent call last)",
      "\u001b[1;32mg:\\coldfar_py\\experiments\\020_python_courses\\20221118.ipynb Cell 20\u001b[0m in \u001b[0;36m<module>\u001b[1;34m\u001b[0m\n\u001b[0;32m      <a href='vscode-notebook-cell:/g%3A/coldfar_py/experiments/020_python_courses/20221118.ipynb#X44sZmlsZQ%3D%3D?line=5'>6</a>\u001b[0m     failwith(\u001b[39m\"\u001b[39m\u001b[39momg\u001b[39m\u001b[39m\"\u001b[39m)\n\u001b[0;32m      <a href='vscode-notebook-cell:/g%3A/coldfar_py/experiments/020_python_courses/20221118.ipynb#X44sZmlsZQ%3D%3D?line=6'>7</a>\u001b[0m \u001b[39mexcept\u001b[39;00m \u001b[39mException\u001b[39;00m \u001b[39mas\u001b[39;00m exn:\n\u001b[1;32m----> <a href='vscode-notebook-cell:/g%3A/coldfar_py/experiments/020_python_courses/20221118.ipynb#X44sZmlsZQ%3D%3D?line=7'>8</a>\u001b[0m     \u001b[39mraise\u001b[39;00m \u001b[39mException\u001b[39;00m(\u001b[39mf\u001b[39m\u001b[39m\"\u001b[39m\u001b[39mreraise: \u001b[39m\u001b[39m{\u001b[39;00mexn\u001b[39m}\u001b[39;00m\u001b[39m\"\u001b[39m)\n",
      "\u001b[1;31mException\u001b[0m: reraise: omg"
     ]
    }
   ],
   "source": [
    "def failwith(s):\n",
    "    raise Exception(s)\n",
    "\n",
    "\n",
    "try:\n",
    "    failwith(\"omg\")\n",
    "except Exception as exn:\n",
    "    raise Exception(f\"reraise: {exn}\")\n"
   ]
  },
  {
   "cell_type": "markdown",
   "metadata": {},
   "source": [
    "# Practice 001"
   ]
  },
  {
   "cell_type": "code",
   "execution_count": null,
   "metadata": {},
   "outputs": [],
   "source": [
    "# 請寫一段 code 如果錯誤是 x/0 類型則沒事，但是如果是 int(\"xxxx\") 則重新丟出錯誤"
   ]
  },
  {
   "cell_type": "code",
   "execution_count": 14,
   "metadata": {},
   "outputs": [
    {
     "name": "stdout",
     "output_type": "stream",
     "text": [
      "my bad fff\n"
     ]
    }
   ],
   "source": [
    "# 自訂錯誤類別\n",
    "# https://www.programiz.com/python-programming/user-defined-exception\n",
    "\n",
    "class CustomError(Exception):\n",
    "    pass\n",
    "try:\n",
    "    raise CustomError(\"fff\")\n",
    "    # 1/0\n",
    "except CustomError as my_exn:\n",
    "    print(f\"my bad {my_exn}\")\n",
    "except Exception as exn:\n",
    "    print(\"his fault\") #把錯誤改成 1/0 試試"
   ]
  },
  {
   "cell_type": "code",
   "execution_count": null,
   "metadata": {},
   "outputs": [],
   "source": [
    "# 套件與模組\n",
    "# https://www.learncodewithmike.com/2020/01/python-module-and-package.html"
   ]
  },
  {
   "cell_type": "code",
   "execution_count": 26,
   "metadata": {},
   "outputs": [
    {
     "data": {
      "text/plain": [
       "'__main__'"
      ]
     },
     "execution_count": 26,
     "metadata": {},
     "output_type": "execute_result"
    }
   ],
   "source": [
    "__name__"
   ]
  },
  {
   "cell_type": "code",
   "execution_count": 1,
   "metadata": {},
   "outputs": [
    {
     "name": "stdout",
     "output_type": "stream",
     "text": [
      "i am ironman\n",
      "i_am_ironman\n",
      "i_am_ironman\n"
     ]
    }
   ],
   "source": [
    "import i_am_ironman\n",
    "i_am_ironman.print_ironman()"
   ]
  },
  {
   "cell_type": "code",
   "execution_count": null,
   "metadata": {},
   "outputs": [],
   "source": [
    "import i_am_ironman"
   ]
  },
  {
   "cell_type": "code",
   "execution_count": 2,
   "metadata": {},
   "outputs": [
    {
     "ename": "NameError",
     "evalue": "name 'print_ironman' is not defined",
     "output_type": "error",
     "traceback": [
      "\u001b[1;31m---------------------------------------------------------------------------\u001b[0m",
      "\u001b[1;31mNameError\u001b[0m                                 Traceback (most recent call last)",
      "\u001b[1;32mg:\\coldfar_py\\experiments\\020_python_courses\\20221118.ipynb Cell 17\u001b[0m in \u001b[0;36m<module>\u001b[1;34m\u001b[0m\n\u001b[1;32m----> <a href='vscode-notebook-cell:/g%3A/coldfar_py/experiments/020_python_courses/20221118.ipynb#X25sZmlsZQ%3D%3D?line=0'>1</a>\u001b[0m print_ironman()\n",
      "\u001b[1;31mNameError\u001b[0m: name 'print_ironman' is not defined"
     ]
    }
   ],
   "source": [
    "print_ironman()"
   ]
  },
  {
   "cell_type": "code",
   "execution_count": 1,
   "metadata": {},
   "outputs": [
    {
     "name": "stdout",
     "output_type": "stream",
     "text": [
      "i am ironman\n",
      "i_am_ironman\n",
      "i_am_ironman\n"
     ]
    }
   ],
   "source": [
    "from i_am_ironman import *\n",
    "print_ironman()"
   ]
  },
  {
   "cell_type": "code",
   "execution_count": 2,
   "metadata": {},
   "outputs": [
    {
     "name": "stdout",
     "output_type": "stream",
     "text": [
      "i am pepper\n",
      "i_am_ironman\n",
      "i_am_pepper\n"
     ]
    }
   ],
   "source": [
    "import i_am_pepper"
   ]
  },
  {
   "cell_type": "markdown",
   "metadata": {},
   "source": [
    "# Practice 002"
   ]
  },
  {
   "cell_type": "code",
   "execution_count": 7,
   "metadata": {},
   "outputs": [],
   "source": [
    "# https://towardsdatascience.com/estimate-pi-using-random-numbers-8b13a7e8c791\n",
    "# 請用今天學習的內容，計算 pi 值 (Hint: 隨機點落於方形與圓形內的比值)"
   ]
  },
  {
   "cell_type": "code",
   "execution_count": 1,
   "metadata": {},
   "outputs": [
    {
     "name": "stdout",
     "output_type": "stream",
     "text": [
      "Hi this is py20221118 package\n",
      "HULK!!!\n"
     ]
    }
   ],
   "source": [
    "from py20221118 import i_am_hulk\n",
    "i_am_hulk.incredible()"
   ]
  },
  {
   "cell_type": "code",
   "execution_count": 3,
   "metadata": {},
   "outputs": [],
   "source": [
    "# About __pycache__\n",
    "# https://tech.gjlmotea.com/2020/03/pythonpycache.html"
   ]
  },
  {
   "cell_type": "code",
   "execution_count": null,
   "metadata": {},
   "outputs": [],
   "source": [
    "# About subpackages (nested packages)\n",
    "# https://realpython.com/lessons/subpackages/"
   ]
  },
  {
   "cell_type": "code",
   "execution_count": 5,
   "metadata": {},
   "outputs": [],
   "source": [
    "# assert\n",
    "# https://realpython.com/python-assert-statement/"
   ]
  },
  {
   "cell_type": "code",
   "execution_count": null,
   "metadata": {},
   "outputs": [],
   "source": [
    "number = 42"
   ]
  },
  {
   "cell_type": "code",
   "execution_count": 7,
   "metadata": {},
   "outputs": [],
   "source": [
    "assert number > 0"
   ]
  },
  {
   "cell_type": "code",
   "execution_count": 8,
   "metadata": {},
   "outputs": [],
   "source": [
    "assert number > 0, f\"number greater than 0 expected, got: {number}\""
   ]
  },
  {
   "cell_type": "code",
   "execution_count": null,
   "metadata": {},
   "outputs": [],
   "source": [
    "assert (\n",
    "    number > 0 and isinstance(number, int),\n",
    "    f\"number greater than 0 expected, got: {number}\"\n",
    ")"
   ]
  },
  {
   "cell_type": "code",
   "execution_count": null,
   "metadata": {},
   "outputs": [],
   "source": [
    "# Membership assertions\n",
    "numbers = [1, 2, 3, 4, 5]\n",
    "assert 4 in numbers\n",
    "assert 10 in numbers"
   ]
  },
  {
   "cell_type": "code",
   "execution_count": 9,
   "metadata": {},
   "outputs": [
    {
     "data": {
      "text/plain": [
       "True"
      ]
     },
     "execution_count": 9,
     "metadata": {},
     "output_type": "execute_result"
    }
   ],
   "source": [
    "import builtins\n",
    "\"__debug__\" in dir(builtins)"
   ]
  },
  {
   "cell_type": "code",
   "execution_count": 11,
   "metadata": {},
   "outputs": [
    {
     "ename": "NameError",
     "evalue": "name 'numbers' is not defined",
     "output_type": "error",
     "traceback": [
      "\u001b[1;31m---------------------------------------------------------------------------\u001b[0m",
      "\u001b[1;31mNameError\u001b[0m                                 Traceback (most recent call last)",
      "\u001b[1;32mg:\\coldfar_py\\experiments\\020_python_courses\\20221118.ipynb Cell 42\u001b[0m in \u001b[0;36m<module>\u001b[1;34m\u001b[0m\n\u001b[0;32m      <a href='vscode-notebook-cell:/g%3A/coldfar_py/experiments/020_python_courses/20221118.ipynb#X64sZmlsZQ%3D%3D?line=0'>1</a>\u001b[0m \u001b[39mif\u001b[39;00m __debug__:\n\u001b[1;32m----> <a href='vscode-notebook-cell:/g%3A/coldfar_py/experiments/020_python_courses/20221118.ipynb#X64sZmlsZQ%3D%3D?line=1'>2</a>\u001b[0m     \u001b[39massert\u001b[39;00m \u001b[39m10\u001b[39m \u001b[39min\u001b[39;00m numbers\n",
      "\u001b[1;31mNameError\u001b[0m: name 'numbers' is not defined"
     ]
    }
   ],
   "source": [
    "if __debug__:\n",
    "    assert 10 in numbers"
   ]
  },
  {
   "cell_type": "code",
   "execution_count": null,
   "metadata": {},
   "outputs": [],
   "source": [
    "# About running python in optimized mode\n",
    "# https://stackoverflow.com/questions/2055557/what-is-the-use-of-the-o-flag-for-running-python"
   ]
  }
 ],
 "metadata": {
  "kernelspec": {
   "display_name": "Python 3.8.7 64-bit",
   "language": "python",
   "name": "python3"
  },
  "language_info": {
   "codemirror_mode": {
    "name": "ipython",
    "version": 3
   },
   "file_extension": ".py",
   "mimetype": "text/x-python",
   "name": "python",
   "nbconvert_exporter": "python",
   "pygments_lexer": "ipython3",
   "version": "3.8.7"
  },
  "orig_nbformat": 4,
  "vscode": {
   "interpreter": {
    "hash": "f16f79ace4c014e94e8714fd17d49a17164430f0d055b960550ad04eb9435d5e"
   }
  }
 },
 "nbformat": 4,
 "nbformat_minor": 2
}

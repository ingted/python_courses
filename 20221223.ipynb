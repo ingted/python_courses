{
 "cells": [
  {
   "cell_type": "markdown",
   "metadata": {},
   "source": [
    "https://www.itexams.com/exam/PCAP\n",
    "https://www.examtopics.com/exams/python-institute/pcap/view/\n"
   ]
  },
  {
   "cell_type": "markdown",
   "metadata": {},
   "source": [
    "https://officeguide.cc/python-generate-uuid-tutorial-examples/"
   ]
  },
  {
   "cell_type": "code",
   "execution_count": 1,
   "metadata": {},
   "outputs": [
    {
     "name": "stdout",
     "output_type": "stream",
     "text": [
      "<-------------------Pickling----------------------->\n",
      "\n",
      "\n",
      "<-------------------Un-Pickling----------------------->\n",
      "showing data pickled\n",
      "1: 6d08291c-f03f-4357-912f-e7d261353ede\n",
      "2: e06f317c-f67b-48a3-bc11-5d4397e75afe\n",
      "3: e79f9c15-3783-4809-987f-e6805293f4b3\n",
      "4: e573ea9c-580a-47b6-a986-2b9e421bef07\n",
      "5: 93a3946a-c0e6-4794-b0eb-9507700be952\n",
      "6: cb7adc65-6a04-42fe-8d0c-b282109731b6\n",
      "7: 0db31319-5fd4-4a08-8e46-b6c0f4997fe2\n",
      "8: 105b57bc-d9ac-4e66-be14-81ffab93155f\n",
      "9: b979f122-28e0-49db-b092-ebcd4731bf0b\n",
      "10: 733da0f6-b93f-422e-97a7-b2325fa3069c\n"
     ]
    }
   ],
   "source": [
    "# Program for pickling python lists\n",
    "# importing module\n",
    "print('<-------------------Pickling----------------------->')\n",
    "import pickle\n",
    "import uuid\n",
    "# number of input data to take\n",
    "n = 10\n",
    "data = []  # input list\n",
    "# adding items to the list\n",
    "for d in range(n):\n",
    "    item = str(d+1) + ': ' + str(uuid.uuid4())\n",
    "    data.append((item))\n",
    "# open a file where data need to be stored\n",
    "file = open('list.pkl', 'wb')\n",
    "# dump information to the file\n",
    "pickle.dump(data, file)\n",
    "# close the file\n",
    "file.close()\n",
    "print('\\n')\n",
    "print('<-------------------Un-Pickling----------------------->')\n",
    "# open the file where data is dumped\n",
    "fileo = open('list.pkl', 'rb')\n",
    "# loading data\n",
    "datao = pickle.load(fileo)\n",
    "# close the file\n",
    "fileo.close()\n",
    "# showing pickled data\n",
    "print(\"showing data pickled\")\n",
    "for i in datao:\n",
    "    print(i)"
   ]
  },
  {
   "cell_type": "code",
   "execution_count": 2,
   "metadata": {},
   "outputs": [
    {
     "name": "stdout",
     "output_type": "stream",
     "text": [
      "True True\n"
     ]
    }
   ],
   "source": [
    "class X: \n",
    "    pass \n",
    "class Y (X): \n",
    "    pass \n",
    "class Z (Y): \n",
    "    pass \n",
    "x = Z() \n",
    "z = Z() \n",
    "print (isinstance (x, Z), isinstance (z, X)) "
   ]
  },
  {
   "cell_type": "markdown",
   "metadata": {},
   "source": [
    "You are going to read 16 bytes from a binary file into a bytearray called data. Which lines would you use? (Select two answers)\n",
    "\n",
    "https://www.devdungeon.com/content/working-binary-data-python\n",
    "https://medium.com/python4you/python-io-streams-in-examples-97d2c4367207"
   ]
  },
  {
   "cell_type": "code",
   "execution_count": 5,
   "metadata": {},
   "outputs": [],
   "source": [
    "#A. (O)\n",
    "data = bytearray (16) \n",
    "with open(\"test.raw\", \"rb\") as bf:\n",
    "    bf.readinto (data)\n",
    "\n",
    "\n",
    "# Read bytes into a pre-allocated, writable bytes-like object b and return the number of bytes read. \n",
    "# For example, b might be a bytearray."
   ]
  },
  {
   "cell_type": "code",
   "execution_count": 9,
   "metadata": {},
   "outputs": [
    {
     "ename": "TypeError",
     "evalue": "argument should be integer or None, not 'bytearray'",
     "output_type": "error",
     "traceback": [
      "\u001b[1;31m---------------------------------------------------------------------------\u001b[0m",
      "\u001b[1;31mTypeError\u001b[0m                                 Traceback (most recent call last)",
      "\u001b[1;32mg:\\coldfar_py\\experiments\\020_python_courses\\20221223.ipynb Cell 4\u001b[0m in \u001b[0;36m<module>\u001b[1;34m\u001b[0m\n\u001b[0;32m      <a href='vscode-notebook-cell:/g%3A/coldfar_py/experiments/020_python_courses/20221223.ipynb#W5sZmlsZQ%3D%3D?line=0'>1</a>\u001b[0m \u001b[39m#B. (X)\u001b[39;00m\n\u001b[0;32m      <a href='vscode-notebook-cell:/g%3A/coldfar_py/experiments/020_python_courses/20221223.ipynb#W5sZmlsZQ%3D%3D?line=1'>2</a>\u001b[0m \u001b[39mwith\u001b[39;00m \u001b[39mopen\u001b[39m(\u001b[39m\"\u001b[39m\u001b[39mtest.raw\u001b[39m\u001b[39m\"\u001b[39m, \u001b[39m\"\u001b[39m\u001b[39mrb\u001b[39m\u001b[39m\"\u001b[39m) \u001b[39mas\u001b[39;00m bf:\n\u001b[1;32m----> <a href='vscode-notebook-cell:/g%3A/coldfar_py/experiments/020_python_courses/20221223.ipynb#W5sZmlsZQ%3D%3D?line=2'>3</a>\u001b[0m     data \u001b[39m=\u001b[39m bf\u001b[39m.\u001b[39;49mread (\u001b[39mbytearray\u001b[39;49m (\u001b[39m16\u001b[39;49m))\n",
      "\u001b[1;31mTypeError\u001b[0m: argument should be integer or None, not 'bytearray'"
     ]
    }
   ],
   "source": [
    "#B. (X)\n",
    "with open(\"test.raw\", \"rb\") as bf:\n",
    "    data = bf.read (bytearray (16))"
   ]
  },
  {
   "cell_type": "code",
   "execution_count": 10,
   "metadata": {},
   "outputs": [
    {
     "ename": "TypeError",
     "evalue": "readinto() takes no keyword arguments",
     "output_type": "error",
     "traceback": [
      "\u001b[1;31m---------------------------------------------------------------------------\u001b[0m",
      "\u001b[1;31mTypeError\u001b[0m                                 Traceback (most recent call last)",
      "\u001b[1;32mg:\\coldfar_py\\experiments\\020_python_courses\\20221223.ipynb Cell 5\u001b[0m in \u001b[0;36m<module>\u001b[1;34m\u001b[0m\n\u001b[0;32m      <a href='vscode-notebook-cell:/g%3A/coldfar_py/experiments/020_python_courses/20221223.ipynb#W6sZmlsZQ%3D%3D?line=0'>1</a>\u001b[0m \u001b[39m#C. \u001b[39;00m\n\u001b[0;32m      <a href='vscode-notebook-cell:/g%3A/coldfar_py/experiments/020_python_courses/20221223.ipynb#W6sZmlsZQ%3D%3D?line=1'>2</a>\u001b[0m \u001b[39mwith\u001b[39;00m \u001b[39mopen\u001b[39m(\u001b[39m\"\u001b[39m\u001b[39mtest.raw\u001b[39m\u001b[39m\"\u001b[39m, \u001b[39m\"\u001b[39m\u001b[39mrb\u001b[39m\u001b[39m\"\u001b[39m) \u001b[39mas\u001b[39;00m bf:\n\u001b[1;32m----> <a href='vscode-notebook-cell:/g%3A/coldfar_py/experiments/020_python_courses/20221223.ipynb#W6sZmlsZQ%3D%3D?line=2'>3</a>\u001b[0m     bf\u001b[39m.\u001b[39;49mreadinto (data \u001b[39m=\u001b[39;49m \u001b[39mbytearray\u001b[39;49m (\u001b[39m16\u001b[39;49m))\n",
      "\u001b[1;31mTypeError\u001b[0m: readinto() takes no keyword arguments"
     ]
    }
   ],
   "source": [
    "#C. (X)\n",
    "with open(\"test.raw\", \"rb\") as bf:\n",
    "    bf.readinto (data = bytearray (16))\n"
   ]
  },
  {
   "cell_type": "code",
   "execution_count": 21,
   "metadata": {},
   "outputs": [
    {
     "name": "stdout",
     "output_type": "stream",
     "text": [
      "bytearray(b'\\x00\\x00\\x00\\x00\\x00\\x00\\x00\\x01\\x00\\x00\\x00\\x02\\x00\\x00\\x00\\x03')\n"
     ]
    }
   ],
   "source": [
    "#D. (O)\n",
    "\n",
    "with open(\"test.raw\", \"rb\") as bf:\n",
    "    data = bytearray (bf.read (16))\n",
    "    print(data)\n",
    "    "
   ]
  },
  {
   "cell_type": "markdown",
   "metadata": {},
   "source": [
    "Write and Read"
   ]
  },
  {
   "cell_type": "code",
   "execution_count": 47,
   "metadata": {},
   "outputs": [
    {
     "name": "stdout",
     "output_type": "stream",
     "text": [
      "b'\\x00\\x00\\x00\\x00\\x01\\x00\\x00\\x00\\x02\\x00\\x00\\x00\\x03\\x00\\x00\\x00'\n"
     ]
    }
   ],
   "source": [
    "import sys\n",
    "with open(\"test.raw\", \"wb\") as bf:\n",
    "    data = list(range(0, 4))\n",
    "    data_byte_arr = list(map(lambda i: i.to_bytes(4, sys.byteorder), data))\n",
    "    b_to_w = b''.join(data_byte_arr)\n",
    "    print(b_to_w)\n",
    "    bf.write(b_to_w)"
   ]
  },
  {
   "cell_type": "markdown",
   "metadata": {},
   "source": [
    "https://www.twblogs.net/a/5c897a1abd9eee35cd6a7b1d"
   ]
  },
  {
   "cell_type": "code",
   "execution_count": 50,
   "metadata": {},
   "outputs": [
    {
     "name": "stdout",
     "output_type": "stream",
     "text": [
      "b'\\x00\\x00\\x00\\x00'\n",
      "0\n",
      "b'\\x01\\x00\\x00\\x00'\n",
      "1\n",
      "b'\\x02\\x00\\x00\\x00'\n",
      "2\n",
      "b'\\x03\\x00\\x00\\x00'\n",
      "3\n"
     ]
    }
   ],
   "source": [
    "import struct\n",
    "with open(\"test.raw\", \"rb\") as bf:\n",
    "    # data = bytearray (bf.read (16))\n",
    "    # print(data)\n",
    "    # print(list(data))\n",
    "    i = 4\n",
    "    for chunk in iter(lambda: bf.read(4), ''):\n",
    "        if i > 0:\n",
    "            print(chunk)\n",
    "            integer_value = struct.unpack('<I', chunk)[0]\n",
    "            print(integer_value)\n",
    "            i -= 1\n",
    "        else:\n",
    "            break"
   ]
  },
  {
   "cell_type": "code",
   "execution_count": 25,
   "metadata": {},
   "outputs": [
    {
     "name": "stdout",
     "output_type": "stream",
     "text": [
      "b'\\x05\\x00\\n\\x00\\x0f\\x00\\x00\\x00'\n",
      "(5, 10, 15)\n"
     ]
    }
   ],
   "source": [
    "var = struct.pack('hhl', 5, 10, 15)\n",
    "print(var)\n",
    " \n",
    "print(struct.unpack('hhl', var))"
   ]
  },
  {
   "cell_type": "code",
   "execution_count": 36,
   "metadata": {},
   "outputs": [
    {
     "name": "stdout",
     "output_type": "stream",
     "text": [
      "['7b', '2d', '43', '59']\n",
      "0x59432d7b\n"
     ]
    }
   ],
   "source": [
    "data = [123, 45, 67, 89]\n",
    "\n",
    "# Show hex values of data.\n",
    "print(list('%02x' % b for b in data))  # -> ['7b', '2d', '43', '59']\n",
    "\n",
    "# Convert to 4 byte unsigned integer data interpreting data as being in \n",
    "# little-endian byte order.\n",
    "value = struct.unpack(\"<I\", bytearray(data))[0]\n",
    "print(hex(value))  # -> 0x59432d7b"
   ]
  },
  {
   "cell_type": "code",
   "execution_count": null,
   "metadata": {},
   "outputs": [],
   "source": [
    "def f(n): \n",
    "    if n == 1: \n",
    "        return 1 \n",
    "    return n + f (n-1)\n",
    "    \n",
    "print (f(2)) \n",
    "\n",
    "# A. 21\n",
    "# B. 12\n",
    "# C. 3\n",
    "# D. none"
   ]
  },
  {
   "cell_type": "code",
   "execution_count": 53,
   "metadata": {},
   "outputs": [
    {
     "data": {
      "text/plain": [
       "1"
      ]
     },
     "execution_count": 53,
     "metadata": {},
     "output_type": "execute_result"
    }
   ],
   "source": [
    "i=3\n",
    "while i != 0: \n",
    "    i=i-1 \n",
    "else: \n",
    "    i=i+1\n",
    "i"
   ]
  },
  {
   "cell_type": "code",
   "execution_count": 54,
   "metadata": {},
   "outputs": [
    {
     "data": {
      "text/plain": [
       "0"
      ]
     },
     "execution_count": 54,
     "metadata": {},
     "output_type": "execute_result"
    }
   ],
   "source": [
    "# https://www.geeksforgeeks.org/python-bitwise-operators/\n",
    "# And operator able to perform bitwise shifts is coded as (Choose two.)\n",
    "# A. -\n",
    "# B. ++\n",
    "# C. <<\n",
    "# D. >>\n",
    "\n",
    "a = 10 #= 1010 (Binary)\n",
    "b = 4 #=  0100 (Binary)\n",
    "\n",
    "a & b #= 1010\n",
    "      #   &\n",
    "      #  0100\n",
    "      #= 0000\n",
    "      #= 0 (Decimal)"
   ]
  },
  {
   "cell_type": "code",
   "execution_count": 58,
   "metadata": {},
   "outputs": [
    {
     "name": "stdout",
     "output_type": "stream",
     "text": [
      "1010\n",
      "10100000\n"
     ]
    }
   ],
   "source": [
    "print(\"{0:b}\".format(a))\n",
    "print(\"{0:b}\".format(a << b))"
   ]
  },
  {
   "cell_type": "code",
   "execution_count": 60,
   "metadata": {},
   "outputs": [
    {
     "name": "stdout",
     "output_type": "stream",
     "text": [
      "3\n",
      "1\n"
     ]
    }
   ],
   "source": [
    "print(10 // 3)\n",
    "print(10 % 3)"
   ]
  },
  {
   "cell_type": "code",
   "execution_count": null,
   "metadata": {},
   "outputs": [],
   "source": [
    "#How many lines does the following snippet output?"
   ]
  },
  {
   "cell_type": "code",
   "execution_count": 61,
   "metadata": {},
   "outputs": [
    {
     "name": "stdout",
     "output_type": "stream",
     "text": [
      "***\n"
     ]
    }
   ],
   "source": [
    "for i in range (1, 3): \n",
    "    print (\"*\", end = \"\") \n",
    "else: \n",
    "    print (\"*\") \n"
   ]
  },
  {
   "cell_type": "code",
   "execution_count": 62,
   "metadata": {},
   "outputs": [
    {
     "name": "stdout",
     "output_type": "stream",
     "text": [
      "*\n",
      "*\n",
      "*\n"
     ]
    }
   ],
   "source": [
    "for i in range (1, 3): \n",
    "    print (\"*\", end = \"\\n\") \n",
    "else: \n",
    "    print (\"*\") "
   ]
  },
  {
   "cell_type": "markdown",
   "metadata": {},
   "source": [
    "https://www.geeksforgeeks.org/array-copying-in-python/\n",
    "\n",
    "In Python, Assignment statements do not copy objects, they create bindings between a target and an object. When we use = operator user thinks that this creates a new object; well, it doesn’t. It only creates a new variable that shares the reference of the original object.\n",
    "\n",
    "https://www.programiz.com/python-programming/methods/list/copy"
   ]
  },
  {
   "cell_type": "code",
   "execution_count": 63,
   "metadata": {},
   "outputs": [
    {
     "name": "stdout",
     "output_type": "stream",
     "text": [
      "[0]\n",
      "[0]\n"
     ]
    }
   ],
   "source": [
    "a = [1]\n",
    "b = a\n",
    "a[0] = 0\n",
    "\n",
    "print(a)\n",
    "print(b)"
   ]
  },
  {
   "cell_type": "code",
   "execution_count": 65,
   "metadata": {},
   "outputs": [
    {
     "name": "stdout",
     "output_type": "stream",
     "text": [
      "[0]\n",
      "[1]\n"
     ]
    }
   ],
   "source": [
    "a = [1]\n",
    "b = a.copy()\n",
    "a[0] = 0\n",
    "\n",
    "print(a)\n",
    "print(b)\n"
   ]
  },
  {
   "cell_type": "code",
   "execution_count": 74,
   "metadata": {},
   "outputs": [
    {
     "name": "stdout",
     "output_type": "stream",
     "text": [
      "[0, 1, 2, 3]\n",
      "[0, 1]\n",
      "[0, 2]\n",
      "[1, 3]\n",
      "[1]\n",
      "[3, 1]\n",
      "[7, 5, 3]\n"
     ]
    }
   ],
   "source": [
    "print([0,1,2,3][:])\n",
    "print([0,1,2,3][:2])\n",
    "print([0,1,2,3][::2])\n",
    "print([0,1,2,3][1::2])\n",
    "print([0,1,2,3][1::-2])\n",
    "print([0,1,2,3][-1::-2])\n",
    "print([0,1,2,3,4,5,6,7][-1:2:-2])"
   ]
  },
  {
   "cell_type": "code",
   "execution_count": null,
   "metadata": {},
   "outputs": [],
   "source": [
    "# 請問能跑嗎？\n",
    "s = \"abc\" \n",
    "for i in len(s): \n",
    "    s[i] = s[i].upper() \n",
    "print(s) \n"
   ]
  },
  {
   "cell_type": "markdown",
   "metadata": {},
   "source": [
    "Can a module run like regular code?\n",
    "\n",
    "Yes, and it can differentiate its behavior between the regular launch and import"
   ]
  },
  {
   "cell_type": "code",
   "execution_count": 75,
   "metadata": {},
   "outputs": [
    {
     "ename": "TypeError",
     "evalue": "'str' object doesn't support item deletion",
     "output_type": "error",
     "traceback": [
      "\u001b[1;31m---------------------------------------------------------------------------\u001b[0m",
      "\u001b[1;31mTypeError\u001b[0m                                 Traceback (most recent call last)",
      "\u001b[1;32mg:\\coldfar_py\\experiments\\020_python_courses\\20221223.ipynb Cell 30\u001b[0m in \u001b[0;36m<module>\u001b[1;34m\u001b[0m\n\u001b[0;32m      <a href='vscode-notebook-cell:/g%3A/coldfar_py/experiments/020_python_courses/20221223.ipynb#X63sZmlsZQ%3D%3D?line=2'>3</a>\u001b[0m     \u001b[39mdel\u001b[39;00m s[\u001b[39m2\u001b[39m] \n\u001b[0;32m      <a href='vscode-notebook-cell:/g%3A/coldfar_py/experiments/020_python_courses/20221223.ipynb#X63sZmlsZQ%3D%3D?line=3'>4</a>\u001b[0m     \u001b[39mreturn\u001b[39;00m s \n\u001b[1;32m----> <a href='vscode-notebook-cell:/g%3A/coldfar_py/experiments/020_python_courses/20221223.ipynb#X63sZmlsZQ%3D%3D?line=4'>5</a>\u001b[0m \u001b[39mprint\u001b[39m (fun(\u001b[39mstr\u001b[39;49m))\n",
      "\u001b[1;32mg:\\coldfar_py\\experiments\\020_python_courses\\20221223.ipynb Cell 30\u001b[0m in \u001b[0;36mfun\u001b[1;34m(s)\u001b[0m\n\u001b[0;32m      <a href='vscode-notebook-cell:/g%3A/coldfar_py/experiments/020_python_courses/20221223.ipynb#X63sZmlsZQ%3D%3D?line=1'>2</a>\u001b[0m \u001b[39mdef\u001b[39;00m \u001b[39mfun\u001b[39m (s): \n\u001b[1;32m----> <a href='vscode-notebook-cell:/g%3A/coldfar_py/experiments/020_python_courses/20221223.ipynb#X63sZmlsZQ%3D%3D?line=2'>3</a>\u001b[0m     \u001b[39mdel\u001b[39;00m s[\u001b[39m2\u001b[39m] \n\u001b[0;32m      <a href='vscode-notebook-cell:/g%3A/coldfar_py/experiments/020_python_courses/20221223.ipynb#X63sZmlsZQ%3D%3D?line=3'>4</a>\u001b[0m     \u001b[39mreturn\u001b[39;00m s\n",
      "\u001b[1;31mTypeError\u001b[0m: 'str' object doesn't support item deletion"
     ]
    }
   ],
   "source": [
    "str = \"abcdef\" \n",
    "def fun (s): \n",
    "    del s[2] \n",
    "    return s \n",
    "print (fun(str)) \n"
   ]
  },
  {
   "cell_type": "code",
   "execution_count": 76,
   "metadata": {},
   "outputs": [
    {
     "name": "stdout",
     "output_type": "stream",
     "text": [
      "['a', 'b', 'd', 'e', 'f']\n"
     ]
    }
   ],
   "source": [
    "str = list(\"abcdef\")\n",
    "def fun (s): \n",
    "    del s[2] \n",
    "    return s \n",
    "print (fun(str)) "
   ]
  },
  {
   "cell_type": "markdown",
   "metadata": {},
   "source": [
    "https://www.programiz.com/python-programming/methods/built-in/hasattr"
   ]
  },
  {
   "cell_type": "code",
   "execution_count": 77,
   "metadata": {},
   "outputs": [
    {
     "name": "stdout",
     "output_type": "stream",
     "text": [
      "Person's age: True\n",
      "Person's salary: False\n"
     ]
    }
   ],
   "source": [
    "class Person:\n",
    "    age = 23\n",
    "    name = \"Adam\"\n",
    "\n",
    "person = Person()\n",
    "\n",
    "print(\"Person's age:\", hasattr(person, \"age\"))\n",
    "print(\"Person's salary:\", hasattr(person, \"salary\"))\n",
    "\n",
    "# Output:\n",
    "# Person's age: True\n",
    "# Person's salary: False"
   ]
  },
  {
   "cell_type": "code",
   "execution_count": 78,
   "metadata": {},
   "outputs": [
    {
     "data": {
      "text/plain": [
       "['__class__',\n",
       " '__delattr__',\n",
       " '__dict__',\n",
       " '__dir__',\n",
       " '__doc__',\n",
       " '__eq__',\n",
       " '__format__',\n",
       " '__ge__',\n",
       " '__getattribute__',\n",
       " '__gt__',\n",
       " '__hash__',\n",
       " '__init__',\n",
       " '__init_subclass__',\n",
       " '__le__',\n",
       " '__lt__',\n",
       " '__module__',\n",
       " '__ne__',\n",
       " '__new__',\n",
       " '__reduce__',\n",
       " '__reduce_ex__',\n",
       " '__repr__',\n",
       " '__setattr__',\n",
       " '__sizeof__',\n",
       " '__str__',\n",
       " '__subclasshook__',\n",
       " '__weakref__',\n",
       " 'age',\n",
       " 'name']"
      ]
     },
     "execution_count": 78,
     "metadata": {},
     "output_type": "execute_result"
    }
   ],
   "source": [
    "dir(Person)"
   ]
  },
  {
   "cell_type": "markdown",
   "metadata": {},
   "source": [
    "https://stackoverflow.com/questions/23051062/open-files-in-rt-and-wt-modes"
   ]
  },
  {
   "cell_type": "code",
   "execution_count": null,
   "metadata": {},
   "outputs": [],
   "source": [
    "s = \"*****\"\n",
    "s = s - s[2]\n",
    "print(s) #what's the output?"
   ]
  },
  {
   "cell_type": "code",
   "execution_count": 83,
   "metadata": {},
   "outputs": [
    {
     "name": "stdout",
     "output_type": "stream",
     "text": [
      "1\n"
     ]
    }
   ],
   "source": [
    "print(2 >> 1)"
   ]
  },
  {
   "cell_type": "code",
   "execution_count": 85,
   "metadata": {},
   "outputs": [
    {
     "name": "stdout",
     "output_type": "stream",
     "text": [
      "* - ** - ** - ** - *\n"
     ]
    }
   ],
   "source": [
    "s = \"* - *\"\n",
    "s = 2 * s + s * 2\n",
    "print(s)"
   ]
  },
  {
   "cell_type": "markdown",
   "metadata": {},
   "source": [
    "https://dotblogs.com.tw/law1009/2013/07/13/109833"
   ]
  },
  {
   "cell_type": "markdown",
   "metadata": {},
   "source": []
  },
  {
   "cell_type": "code",
   "execution_count": 87,
   "metadata": {},
   "outputs": [
    {
     "ename": "TypeError",
     "evalue": "unsupported operand type(s) for +: 'int' and 'NoneType'",
     "output_type": "error",
     "traceback": [
      "\u001b[1;31m---------------------------------------------------------------------------\u001b[0m",
      "\u001b[1;31mTypeError\u001b[0m                                 Traceback (most recent call last)",
      "\u001b[1;32mg:\\coldfar_py\\experiments\\020_python_courses\\20221223.ipynb Cell 41\u001b[0m in \u001b[0;36m<module>\u001b[1;34m\u001b[0m\n\u001b[0;32m      <a href='vscode-notebook-cell:/g%3A/coldfar_py/experiments/020_python_courses/20221223.ipynb#Y113sZmlsZQ%3D%3D?line=1'>2</a>\u001b[0m     \u001b[39mif\u001b[39;00m x \u001b[39m%\u001b[39m \u001b[39m2\u001b[39m \u001b[39m==\u001b[39m \u001b[39m1\u001b[39m: \n\u001b[0;32m      <a href='vscode-notebook-cell:/g%3A/coldfar_py/experiments/020_python_courses/20221223.ipynb#Y113sZmlsZQ%3D%3D?line=2'>3</a>\u001b[0m         \u001b[39mreturn\u001b[39;00m \u001b[39m0\u001b[39m \n\u001b[1;32m----> <a href='vscode-notebook-cell:/g%3A/coldfar_py/experiments/020_python_courses/20221223.ipynb#Y113sZmlsZQ%3D%3D?line=3'>4</a>\u001b[0m \u001b[39mprint\u001b[39m (unclear (\u001b[39m1\u001b[39;49m) \u001b[39m+\u001b[39;49m unclear (\u001b[39m0\u001b[39;49m))\n",
      "\u001b[1;31mTypeError\u001b[0m: unsupported operand type(s) for +: 'int' and 'NoneType'"
     ]
    }
   ],
   "source": [
    "def unclear (x): \n",
    "    if x % 2 == 1: \n",
    "        return 0 \n",
    "print (unclear (1) + unclear (0)) \n"
   ]
  },
  {
   "cell_type": "markdown",
   "metadata": {},
   "source": [
    "https://leetcode.com/problems/valid-parentheses/"
   ]
  }
 ],
 "metadata": {
  "kernelspec": {
   "display_name": "Python 3.8.7 64-bit",
   "language": "python",
   "name": "python3"
  },
  "language_info": {
   "codemirror_mode": {
    "name": "ipython",
    "version": 3
   },
   "file_extension": ".py",
   "mimetype": "text/x-python",
   "name": "python",
   "nbconvert_exporter": "python",
   "pygments_lexer": "ipython3",
   "version": "3.8.7"
  },
  "orig_nbformat": 4,
  "vscode": {
   "interpreter": {
    "hash": "f16f79ace4c014e94e8714fd17d49a17164430f0d055b960550ad04eb9435d5e"
   }
  }
 },
 "nbformat": 4,
 "nbformat_minor": 2
}

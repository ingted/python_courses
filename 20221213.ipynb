{
 "cells": [
  {
   "cell_type": "markdown",
   "metadata": {},
   "source": [
    "# Python Multilevel Inheritance & MRO"
   ]
  },
  {
   "cell_type": "markdown",
   "metadata": {},
   "source": [
    "<img src=\"20221213/mro.jpg\">"
   ]
  },
  {
   "cell_type": "code",
   "execution_count": 1,
   "metadata": {},
   "outputs": [
    {
     "name": "stdout",
     "output_type": "stream",
     "text": [
      "[<class '__main__.M'>, <class '__main__.B'>, <class '__main__.A'>, <class '__main__.X'>, <class '__main__.Y'>, <class '__main__.Z'>, <class 'object'>]\n"
     ]
    }
   ],
   "source": [
    "class X:\n",
    "    pass\n",
    "\n",
    "\n",
    "class Y:\n",
    "    pass\n",
    "\n",
    "\n",
    "class Z:\n",
    "    pass\n",
    "\n",
    "\n",
    "class A(X, Y):\n",
    "    pass\n",
    "\n",
    "\n",
    "class B(Y, Z):\n",
    "    pass\n",
    "\n",
    "\n",
    "class M(B, A, Z):\n",
    "    pass\n",
    "\n",
    "# Output:\n",
    "# [<class '__main__.M'>, <class '__main__.B'>,\n",
    "#  <class '__main__.A'>, <class '__main__.X'>,\n",
    "#  <class '__main__.Y'>, <class '__main__.Z'>,\n",
    "#  <class 'object'>]\n",
    "\n",
    "print(M.mro())"
   ]
  },
  {
   "cell_type": "markdown",
   "metadata": {},
   "source": [
    "# Polymorphism\n",
    "https://www.edureka.co/blog/polymorphism-in-python/#:~:text=Polymorphism%20in%20python%20defines%20methods,inherited%20from%20the%20parent%20class."
   ]
  },
  {
   "cell_type": "markdown",
   "metadata": {},
   "source": [
    "# Destructors in Python"
   ]
  },
  {
   "cell_type": "code",
   "execution_count": 3,
   "metadata": {},
   "outputs": [
    {
     "name": "stdout",
     "output_type": "stream",
     "text": [
      "Employee created.\n",
      "Destructor called, Employee deleted.\n"
     ]
    }
   ],
   "source": [
    "class Employee:\n",
    " \n",
    "    # Initializing\n",
    "    def __init__(self):\n",
    "        print('Employee created.')\n",
    " \n",
    "    # Deleting (Calling destructor)\n",
    "    def __del__(self):\n",
    "        print('Destructor called, Employee deleted.')\n",
    " \n",
    "obj = Employee()\n",
    "del obj"
   ]
  },
  {
   "cell_type": "markdown",
   "metadata": {},
   "source": [
    "<img src=\"20221213/cr.jpg\">"
   ]
  },
  {
   "cell_type": "code",
   "execution_count": 8,
   "metadata": {},
   "outputs": [],
   "source": [
    "class A:\n",
    "    def __init__(self, bb):\n",
    "        self.b = bb\n",
    " \n",
    "class B:\n",
    "    def __init__(self):\n",
    "        self.a = A(self)\n",
    "    def __del__(self):\n",
    "        print(\"die\")\n",
    " \n",
    "def fun():\n",
    "    b = B()\n",
    "    del b\n",
    " \n",
    "fun()"
   ]
  },
  {
   "cell_type": "code",
   "execution_count": 9,
   "metadata": {},
   "outputs": [
    {
     "name": "stdout",
     "output_type": "stream",
     "text": [
      "die\n"
     ]
    }
   ],
   "source": [
    "class B2:\n",
    "    def __init__(self):\n",
    "        self.a = 123\n",
    "    def __del__(self):\n",
    "        print(\"die\")\n",
    " \n",
    "def fun2():\n",
    "    b = B2()\n",
    "    del b\n",
    " \n",
    "fun2()"
   ]
  },
  {
   "cell_type": "markdown",
   "metadata": {},
   "source": [
    "https://www.geeksforgeeks.org/inner-class-in-python/"
   ]
  },
  {
   "cell_type": "code",
   "execution_count": 18,
   "metadata": {},
   "outputs": [
    {
     "name": "stdout",
     "output_type": "stream",
     "text": [
      "outer\n",
      "inner\n"
     ]
    }
   ],
   "source": [
    "# create NameOfOuterClass class\n",
    "class NameOfOuterClass:\n",
    "\n",
    "  # Constructor method of outer class\n",
    "  def __init__(self):  \n",
    "\n",
    "    self.NameOfVariable = \"outer\"\n",
    "\n",
    "    # create Inner class object\n",
    "    self.NameOfInnerClassObject = self.NameOfInnerClass() \n",
    " \n",
    "  # create a NameOfInnerClass class\n",
    "  class NameOfInnerClass:  \n",
    "     # Constructor method of inner class\n",
    "    def __init__(self): \n",
    "      self.NameOfVariable = \"inner\"\n",
    "\n",
    "# create object of outer class\n",
    "outer = NameOfOuterClass() \n",
    "\n",
    "print(outer.NameOfVariable)\n",
    "print(outer.NameOfInnerClassObject.NameOfVariable)"
   ]
  },
  {
   "cell_type": "markdown",
   "metadata": {},
   "source": [
    "https://realpython.com/introduction-to-python-generators/"
   ]
  },
  {
   "cell_type": "code",
   "execution_count": 19,
   "metadata": {},
   "outputs": [
    {
     "name": "stdout",
     "output_type": "stream",
     "text": [
      "1\n",
      "2\n",
      "3\n"
     ]
    }
   ],
   "source": [
    "def simpleGeneratorFun():\n",
    "    yield 1\n",
    "    yield 2\n",
    "    yield 3\n",
    "  \n",
    "# x is a generator object\n",
    "x = simpleGeneratorFun()\n",
    " \n",
    "# Iterating over the generator object using next\n",
    "print(next(x)) # In Python 3, __next__()\n",
    "print(next(x))\n",
    "print(next(x))"
   ]
  },
  {
   "cell_type": "code",
   "execution_count": 24,
   "metadata": {},
   "outputs": [
    {
     "name": "stdout",
     "output_type": "stream",
     "text": [
      "0\n",
      "1\n",
      "2\n",
      "3\n",
      "4\n"
     ]
    }
   ],
   "source": [
    "def infinite_sequence():\n",
    "    num = 0\n",
    "    while True:\n",
    "        yield num\n",
    "        num += 1\n",
    "x = infinite_sequence()\n",
    " \n",
    "# Iterating over the generator object using next\n",
    "print(next(x)) # In Python 3, __next__()\n",
    "print(next(x))\n",
    "print(next(x))\n",
    "print(next(x))\n",
    "print(next(x))        "
   ]
  },
  {
   "cell_type": "markdown",
   "metadata": {},
   "source": [
    "<img src=\"20221213/list.jpg\">"
   ]
  },
  {
   "cell_type": "code",
   "execution_count": null,
   "metadata": {},
   "outputs": [],
   "source": []
  }
 ],
 "metadata": {
  "kernelspec": {
   "display_name": "Python 3.8.7 64-bit",
   "language": "python",
   "name": "python3"
  },
  "language_info": {
   "codemirror_mode": {
    "name": "ipython",
    "version": 3
   },
   "file_extension": ".py",
   "mimetype": "text/x-python",
   "name": "python",
   "nbconvert_exporter": "python",
   "pygments_lexer": "ipython3",
   "version": "3.8.7"
  },
  "orig_nbformat": 4,
  "vscode": {
   "interpreter": {
    "hash": "f16f79ace4c014e94e8714fd17d49a17164430f0d055b960550ad04eb9435d5e"
   }
  }
 },
 "nbformat": 4,
 "nbformat_minor": 2
}
